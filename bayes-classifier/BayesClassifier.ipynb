{
 "cells": [
  {
   "cell_type": "code",
   "execution_count": 6,
   "id": "4a4e44da-9a0e-4fd6-a127-47666d6306c9",
   "metadata": {},
   "outputs": [],
   "source": [
    "import os\n",
    "import numpy as np\n",
    "from pathlib import Path\n",
    "from sklearn.metrics import accuracy_score, recall_score\n",
    "from collections import defaultdict\n",
    "from sklearn.decomposition import PCA\n",
    "from bayes import BayesClassifier            "
   ]
  },
  {
   "cell_type": "code",
   "execution_count": 7,
   "id": "158bbd81-4765-4ec8-a591-9c6c6f3b740a",
   "metadata": {},
   "outputs": [
    {
     "name": "stdout",
     "output_type": "stream",
     "text": [
      "📊 Train Accuracy: 0.988702201622248\n",
      "📊 Test Accuracy : 0.9681908548707754\n",
      "📈 Train Recall per class: [0.98648649 0.99261993 0.98417722 0.98713826 0.99056604 0.98412698\n",
      " 0.99225806 1.        ]\n",
      "📈 Test Recall per class : [1.         0.97014925 0.98666667 0.95945946 0.96078431 0.97169811\n",
      " 0.97894737 0.92227979]\n",
      "🔍 Class 'Audi' recall: 1.000\n",
      "🔍 Class 'Hyundai Creta' recall: 0.970\n",
      "🔍 Class 'Mahindra Scorpio' recall: 0.987\n",
      "🔍 Class 'Rolls Royce' recall: 0.959\n",
      "🔍 Class 'Swift' recall: 0.961\n",
      "🔍 Class 'Tata Safari' recall: 0.972\n",
      "🔍 Class 'Toyota Innova' recall: 0.979\n",
      "🔍 Class 'airplane' recall: 0.922\n"
     ]
    }
   ],
   "source": [
    "# ------------------------------------------------------------\n",
    "# Main\n",
    "# ------------------------------------------------------------\n",
    "if __name__ == \"__main__\":\n",
    "    train_dir = \"dataset/train\"\n",
    "    test_dir = \"dataset/test\"\n",
    "\n",
    "    # 1. Load train and test data\n",
    "    X_train, y_train, label_map = load_features_and_labels(train_dir)\n",
    "    X_test, y_test, _ = load_features_and_labels(test_dir)\n",
    "\n",
    "    # 2. Convert y to one-hot encoding\n",
    "    k = len(label_map)\n",
    "    y_train_oh = one_hot_encode(y_train, k)\n",
    "\n",
    "    # Fit PCA to reduce dimensionality of features while capturing most information\n",
    "    pca = PCA(n_components=50, svd_solver='auto', random_state=0)\n",
    "    X_train_pca = pca.fit_transform(X_train)\n",
    "    X_test_pca  = pca.transform(X_test)\n",
    "\n",
    "    # 3. Train Bayes Classifier\n",
    "    clf = BayesClassifier(k=k, X=X_train_pca, y=y_train_oh)\n",
    "    clf.fit()\n",
    "\n",
    "    # 4. Predict\n",
    "    y_pred_train = clf.predict(X_train_pca)\n",
    "    y_pred_test = clf.predict(X_test_pca)\n",
    "\n",
    "    # 5. Metrics\n",
    "    print(\"📊 Train Accuracy:\", accuracy_score(y_train, y_pred_train))\n",
    "    print(\"📊 Test Accuracy :\", accuracy_score(y_test, y_pred_test))\n",
    "\n",
    "    print(\"📈 Train Recall per class:\", recall_score(y_train, y_pred_train, average=None))\n",
    "    print(\"📈 Test Recall per class :\", recall_score(y_test, y_pred_test, average=None))\n",
    "\n",
    "    # 6. Optional: Map back to class names\n",
    "    inv_label_map = {v: k for k, v in label_map.items()}\n",
    "    for i, recall in enumerate(recall_score(y_test, y_pred_test, average=None)):\n",
    "        print(f\"🔍 Class '{inv_label_map[i]}' recall: {recall:.3f}\")\n"
   ]
  },
  {
   "cell_type": "code",
   "execution_count": null,
   "id": "95ed189e-b070-4543-b98b-419279922816",
   "metadata": {},
   "outputs": [],
   "source": []
  }
 ],
 "metadata": {
  "kernelspec": {
   "display_name": "Python 3 (ipykernel)",
   "language": "python",
   "name": "python3"
  },
  "language_info": {
   "codemirror_mode": {
    "name": "ipython",
    "version": 3
   },
   "file_extension": ".py",
   "mimetype": "text/x-python",
   "name": "python",
   "nbconvert_exporter": "python",
   "pygments_lexer": "ipython3",
   "version": "3.8.17"
  }
 },
 "nbformat": 4,
 "nbformat_minor": 5
}
